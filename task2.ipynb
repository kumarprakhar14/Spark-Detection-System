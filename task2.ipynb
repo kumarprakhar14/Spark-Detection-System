{
  "nbformat": 4,
  "nbformat_minor": 0,
  "metadata": {
    "colab": {
      "provenance": [],
      "authorship_tag": "ABX9TyMis9yR3pdPvghhMDZuxPHW",
      "include_colab_link": true
    },
    "kernelspec": {
      "name": "python3",
      "display_name": "Python 3"
    },
    "language_info": {
      "name": "python"
    }
  },
  "cells": [
    {
      "cell_type": "markdown",
      "metadata": {
        "id": "view-in-github",
        "colab_type": "text"
      },
      "source": [
        "<a href=\"https://colab.research.google.com/github/kumarprakhar14/Spark-Detection-System/blob/main/task2.ipynb\" target=\"_parent\"><img src=\"https://colab.research.google.com/assets/colab-badge.svg\" alt=\"Open In Colab\"/></a>"
      ]
    },
    {
      "cell_type": "code",
      "execution_count": null,
      "metadata": {
        "colab": {
          "base_uri": "https://localhost:8080/",
          "height": 1000
        },
        "id": "HibWCG48Kwu4",
        "outputId": "b04e1987-c56a-4fb8-b78b-7084c2081e39"
      },
      "outputs": [],
      "source": [
        "import cv2\n",
        "import numpy as np\n",
        "from google.colab.patches import cv2_imshow\n",
        "\n",
        "\n",
        "def main():\n",
        "    cap = cv2.VideoCapture('/content/Spark_Detection.mp4')  # Or use 0 for webcam\n",
        "\n",
        "    # Initialize variables for motion detection\n",
        "    ret, frame1 = cap.read()\n",
        "    if not ret:\n",
        "        print(\"Error reading video file\")\n",
        "        return\n",
        "\n",
        "    gray1 = cv2.cvtColor(frame1, cv2.COLOR_BGR2GRAY)\n",
        "    gray1 = cv2.GaussianBlur(gray1, (15, 15), 0)\n",
        "\n",
        "    while cap.isOpened():\n",
        "        ret, frame2 = cap.read()\n",
        "        if not ret:\n",
        "            break\n",
        "\n",
        "        gray2 = cv2.cvtColor(frame2, cv2.COLOR_BGR2GRAY)\n",
        "        gray2 = cv2.GaussianBlur(gray2, (15, 15), 0)\n",
        "\n",
        "        # Compute absolute difference between current frame and previous frame\n",
        "        frame_diff = cv2.absdiff(gray1, gray2)\n",
        "\n",
        "        # Apply threshold to detect significant changes\n",
        "        _, motion_mask = cv2.threshold(frame_diff, 25, 255, cv2.THRESH_BINARY)\n",
        "\n",
        "        # Optional: Apply morphological operations to enhance detection\n",
        "        kernel = np.ones((5, 5), np.uint8)\n",
        "        motion_mask = cv2.morphologyEx(motion_mask, cv2.MORPH_CLOSE, kernel)\n",
        "        motion_mask = cv2.morphologyEx(motion_mask, cv2.MORPH_OPEN, kernel)\n",
        "\n",
        "        # Find contours of motion regions\n",
        "        contours, _ = cv2.findContours(motion_mask, cv2.RETR_EXTERNAL, cv2.CHAIN_APPROX_SIMPLE)\n",
        "\n",
        "        # Draw rectangles around detected motion regions\n",
        "        for contour in contours:\n",
        "            if cv2.contourArea(contour) > 100:  # Adjust area threshold as needed\n",
        "                x, y, w, h = cv2.boundingRect(contour)\n",
        "                cv2.rectangle(frame2, (x, y), (x + w, y + h), (0, 0, 255), 2)\n",
        "\n",
        "        # Display the frame with detected motion\n",
        "        cv2_imshow(frame2)\n",
        "\n",
        "        # Update previous frame\n",
        "        gray1 = gray2\n",
        "\n",
        "        # Break the loop if 'q' is pressed\n",
        "        if cv2.waitKey(1) & 0xFF == ord('q'):\n",
        "            break\n",
        "\n",
        "    cap.release()\n",
        "    cv2.destroyAllWindows()\n",
        "\n",
        "if __name__ == \"__main__\":\n",
        "    main()\n"
      ]
    }
  ]
}